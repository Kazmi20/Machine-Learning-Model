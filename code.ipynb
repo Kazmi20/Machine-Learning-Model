{
 "cells": [
  {
   "cell_type": "code",
   "execution_count": 13,
   "id": "b3de22c1",
   "metadata": {},
   "outputs": [],
   "source": [
    "import pandas as pd\n",
    "from pandas import DataFrame\n"
   ]
  },
  {
   "cell_type": "code",
   "execution_count": 14,
   "id": "7481bcec",
   "metadata": {},
   "outputs": [],
   "source": [
    "import matplotlib.pyplot as plt"
   ]
  },
  {
   "cell_type": "code",
   "execution_count": 22,
   "id": "c8d97bf6",
   "metadata": {},
   "outputs": [
    {
     "data": {
      "text/html": [
       "<div>\n",
       "<style scoped>\n",
       "    .dataframe tbody tr th:only-of-type {\n",
       "        vertical-align: middle;\n",
       "    }\n",
       "\n",
       "    .dataframe tbody tr th {\n",
       "        vertical-align: top;\n",
       "    }\n",
       "\n",
       "    .dataframe thead th {\n",
       "        text-align: right;\n",
       "    }\n",
       "</style>\n",
       "<table border=\"1\" class=\"dataframe\">\n",
       "  <thead>\n",
       "    <tr style=\"text-align: right;\">\n",
       "      <th></th>\n",
       "      <th>Number of days</th>\n",
       "      <th>Temperature</th>\n",
       "      <th>Humidity</th>\n",
       "      <th>Wind Speed</th>\n",
       "      <th>Pressure</th>\n",
       "      <th>Visibility</th>\n",
       "      <th>Precipitation_classes</th>\n",
       "    </tr>\n",
       "  </thead>\n",
       "  <tbody>\n",
       "    <tr>\n",
       "      <th>0</th>\n",
       "      <td>1</td>\n",
       "      <td>9.472222</td>\n",
       "      <td>0.95000</td>\n",
       "      <td>8.001200</td>\n",
       "      <td>1015.13</td>\n",
       "      <td>15.874600</td>\n",
       "      <td>0</td>\n",
       "    </tr>\n",
       "    <tr>\n",
       "      <th>1</th>\n",
       "      <td>2</td>\n",
       "      <td>9.355556</td>\n",
       "      <td>0.94000</td>\n",
       "      <td>8.001540</td>\n",
       "      <td>1015.63</td>\n",
       "      <td>15.874600</td>\n",
       "      <td>0</td>\n",
       "    </tr>\n",
       "    <tr>\n",
       "      <th>2</th>\n",
       "      <td>3</td>\n",
       "      <td>9.377778</td>\n",
       "      <td>0.93000</td>\n",
       "      <td>8.110200</td>\n",
       "      <td>1015.94</td>\n",
       "      <td>15.826300</td>\n",
       "      <td>0</td>\n",
       "    </tr>\n",
       "    <tr>\n",
       "      <th>3</th>\n",
       "      <td>4</td>\n",
       "      <td>8.288889</td>\n",
       "      <td>0.92000</td>\n",
       "      <td>8.110290</td>\n",
       "      <td>1016.41</td>\n",
       "      <td>15.826300</td>\n",
       "      <td>0</td>\n",
       "    </tr>\n",
       "    <tr>\n",
       "      <th>4</th>\n",
       "      <td>5</td>\n",
       "      <td>8.755556</td>\n",
       "      <td>0.92122</td>\n",
       "      <td>8.112039</td>\n",
       "      <td>1016.51</td>\n",
       "      <td>15.826300</td>\n",
       "      <td>0</td>\n",
       "    </tr>\n",
       "    <tr>\n",
       "      <th>...</th>\n",
       "      <td>...</td>\n",
       "      <td>...</td>\n",
       "      <td>...</td>\n",
       "      <td>...</td>\n",
       "      <td>...</td>\n",
       "      <td>...</td>\n",
       "      <td>...</td>\n",
       "    </tr>\n",
       "    <tr>\n",
       "      <th>111</th>\n",
       "      <td>112</td>\n",
       "      <td>9.050000</td>\n",
       "      <td>0.57400</td>\n",
       "      <td>28.480900</td>\n",
       "      <td>1010.00</td>\n",
       "      <td>4.827100</td>\n",
       "      <td>1</td>\n",
       "    </tr>\n",
       "    <tr>\n",
       "      <th>112</th>\n",
       "      <td>113</td>\n",
       "      <td>9.050000</td>\n",
       "      <td>0.56890</td>\n",
       "      <td>28.513100</td>\n",
       "      <td>1009.98</td>\n",
       "      <td>4.739200</td>\n",
       "      <td>1</td>\n",
       "    </tr>\n",
       "    <tr>\n",
       "      <th>113</th>\n",
       "      <td>114</td>\n",
       "      <td>9.183333</td>\n",
       "      <td>0.56930</td>\n",
       "      <td>29.833300</td>\n",
       "      <td>1010.05</td>\n",
       "      <td>4.693493</td>\n",
       "      <td>1</td>\n",
       "    </tr>\n",
       "    <tr>\n",
       "      <th>114</th>\n",
       "      <td>115</td>\n",
       "      <td>9.072222</td>\n",
       "      <td>0.56740</td>\n",
       "      <td>30.863700</td>\n",
       "      <td>1010.10</td>\n",
       "      <td>4.522100</td>\n",
       "      <td>1</td>\n",
       "    </tr>\n",
       "    <tr>\n",
       "      <th>115</th>\n",
       "      <td>116</td>\n",
       "      <td>9.102812</td>\n",
       "      <td>0.45000</td>\n",
       "      <td>32.167800</td>\n",
       "      <td>1010.39</td>\n",
       "      <td>4.512000</td>\n",
       "      <td>1</td>\n",
       "    </tr>\n",
       "  </tbody>\n",
       "</table>\n",
       "<p>116 rows × 7 columns</p>\n",
       "</div>"
      ],
      "text/plain": [
       "     Number of days  Temperature  Humidity  Wind Speed  Pressure  Visibility  \\\n",
       "0                 1     9.472222   0.95000    8.001200   1015.13   15.874600   \n",
       "1                 2     9.355556   0.94000    8.001540   1015.63   15.874600   \n",
       "2                 3     9.377778   0.93000    8.110200   1015.94   15.826300   \n",
       "3                 4     8.288889   0.92000    8.110290   1016.41   15.826300   \n",
       "4                 5     8.755556   0.92122    8.112039   1016.51   15.826300   \n",
       "..              ...          ...       ...         ...       ...         ...   \n",
       "111             112     9.050000   0.57400   28.480900   1010.00    4.827100   \n",
       "112             113     9.050000   0.56890   28.513100   1009.98    4.739200   \n",
       "113             114     9.183333   0.56930   29.833300   1010.05    4.693493   \n",
       "114             115     9.072222   0.56740   30.863700   1010.10    4.522100   \n",
       "115             116     9.102812   0.45000   32.167800   1010.39    4.512000   \n",
       "\n",
       "     Precipitation_classes  \n",
       "0                        0  \n",
       "1                        0  \n",
       "2                        0  \n",
       "3                        0  \n",
       "4                        0  \n",
       "..                     ...  \n",
       "111                      1  \n",
       "112                      1  \n",
       "113                      1  \n",
       "114                      1  \n",
       "115                      1  \n",
       "\n",
       "[116 rows x 7 columns]"
      ]
     },
     "execution_count": 22,
     "metadata": {},
     "output_type": "execute_result"
    }
   ],
   "source": [
    "import pandas as pd\n",
    "from pandas import DataFrame\n",
    "data=DataFrame()\n",
    "dataexcel=pd.read_excel(r'C:\\Users\\Chach\\OneDrive - University of Calgary\\2021 Fall\\ENDG 319\\CURE\\Deliverable4\\weatherop.xlsx')\n",
    "\n",
    "dataexcel"
   ]
  },
  {
   "cell_type": "code",
   "execution_count": 23,
   "id": "16253513",
   "metadata": {},
   "outputs": [
    {
     "data": {
      "text/plain": [
       "(70, 46)"
      ]
     },
     "execution_count": 23,
     "metadata": {},
     "output_type": "execute_result"
    }
   ],
   "source": [
    "f0,f1=dataexcel.Precipitation_classes.value_counts()\n",
    "f0,f1"
   ]
  },
  {
   "cell_type": "code",
   "execution_count": 36,
   "id": "27523ca6",
   "metadata": {},
   "outputs": [
    {
     "data": {
      "text/plain": [
       "(70, 46)"
      ]
     },
     "execution_count": 36,
     "metadata": {},
     "output_type": "execute_result"
    },
    {
     "data": {
      "image/png": "[encoded data removed]",
      "text/plain": [
       "<Figure size 1080x180 with 5 Axes>"
      ]
     },
     "metadata": {
      "needs_background": "light"
     },
     "output_type": "display_data"
    }
   ],
   "source": [
    "import matplotlib.pyplot as plt\n",
    "fig,axs =plt.subplots(figsize=(15,2.5))\n",
    "\n",
    "axs1=plt.subplot2grid(shape=(1,5),loc=(0,0))\n",
    "axs2=plt.subplot2grid(shape=(1,5),loc=(0,1))\n",
    "axs3=plt.subplot2grid(shape=(1,5),loc=(0,2))\n",
    "axs4=plt.subplot2grid(shape=(1,5),loc=(0,3))\n",
    "axs5=plt.subplot2grid(shape=(1,5),loc=(0,4))\n",
    "\n",
    "plt.tight_layout()\n",
    "\n",
    "axs1.hist(dataexcel.iloc[0:f0,1],edgecolor='b',fc='none',label='Precipitation<1')\n",
    "axs1.hist(dataexcel.iloc[f0:f0+f1,1],edgecolor='r',fc='none',label='Precipitation>1')\n",
    "axs1.set_xlabel('Temperature')\n",
    "axs1.set_ylabel('Frequency')\n",
    "axs1.legend()\n",
    "\n",
    "axs2.scatter(dataexcel.iloc[0:f0,2],dataexcel.iloc[0:f0,1],label='Precipitation<1')\n",
    "axs2.scatter(dataexcel.iloc[f0:f0+f1,2],dataexcel.iloc[f0:f0+f1,1],label='Precipitation>1')\n",
    "axs2.set_xlabel('Humidity')\n",
    "axs2.set_ylabel('Temperature')\n",
    "axs2.legend()\n",
    "\n",
    "axs3.scatter(dataexcel.iloc[0:f0,3],dataexcel.iloc[0:f0,1],label='Precipitation<1')\n",
    "axs3.scatter(dataexcel.iloc[f0:f0+f1,3],dataexcel.iloc[f0:f0+f1,1],label='Precipitation>1')\n",
    "axs3.set_xlabel('Windspeed')\n",
    "axs3.set_ylabel('Temperature')\n",
    "axs3.legend()\n",
    "\n",
    "axs4.scatter(dataexcel.iloc[0:f0,4],dataexcel.iloc[0:f0,1],label='Precipitation<1')\n",
    "axs4.scatter(dataexcel.iloc[f0:f0+f1,4],dataexcel.iloc[f0:f0+f1,1],label='Precipitation>1')\n",
    "axs4.set_xlabel('Pressure')\n",
    "axs4.set_ylabel('Temperature')\n",
    "axs4.legend()\n",
    "\n",
    "axs5.scatter(dataexcel.iloc[0:f0,5],dataexcel.iloc[0:f0,1],label='Precipitation<1')\n",
    "axs5.scatter(dataexcel.iloc[f0:f0+f1,5],dataexcel.iloc[f0:f0+f1,1],label='Precipitation>1')\n",
    "axs5.set_xlabel('Visibility')\n",
    "axs5.set_ylabel('Temperature')\n",
    "axs5.legend()\n",
    "\n",
    "f0,f1=dataexcel.Precipitation_classes.value_counts()\n",
    "f0,f1\n"
   ]
  },
  {
   "cell_type": "markdown",
   "id": "01e5f901",
   "metadata": {},
   "source": [
    "               A                          B                        C                        D                       E"
   ]
  },
  {
   "cell_type": "code",
   "execution_count": 25,
   "id": "b4b5a8b0",
   "metadata": {},
   "outputs": [],
   "source": [
    "from sklearn.model_selection import train_test_split\n",
    "from sklearn import preprocessing\n",
    "\n",
    "dataX = dataexcel.drop(columns = ['Precipitation_classes'])\n",
    "sy = dataexcel.Precipitation_classes\n",
    "\n",
    "dataX_train, dataX_test, sy_train, sy_test = train_test_split(dataX,sy)"
   ]
  },
  {
   "cell_type": "code",
   "execution_count": 37,
   "id": "9c13f24f",
   "metadata": {},
   "outputs": [
    {
     "data": {
      "text/plain": [
       "(26     0\n",
       " 37     0\n",
       " 2      0\n",
       " 0      0\n",
       " 59     1\n",
       "       ..\n",
       " 45     0\n",
       " 68     1\n",
       " 87     1\n",
       " 8      0\n",
       " 106    1\n",
       " Name: Precipitation_classes, Length: 87, dtype: int64,\n",
       " array([0, 0, 0, 0, 1, 1, 0, 1, 0, 1, 1, 1, 0, 1, 1, 1, 0, 0, 1, 1, 0, 0,\n",
       "        0, 1, 0, 1, 1, 0, 1, 1, 1, 1, 1, 1, 1, 1, 1, 1, 1, 1, 1, 1, 0, 1,\n",
       "        0, 1, 1, 1, 0, 0, 0, 1, 1, 1, 0, 0, 0, 1, 0, 1, 0, 1, 1, 0, 1, 1,\n",
       "        0, 0, 0, 1, 0, 1, 0, 1, 1, 1, 0, 1, 1, 1, 1, 0, 0, 1, 1, 0, 1],\n",
       "       dtype=int64))"
      ]
     },
     "execution_count": 37,
     "metadata": {},
     "output_type": "execute_result"
    }
   ],
   "source": [
    "le = preprocessing.LabelEncoder()\n",
    "\n",
    "le = le.fit(sy_train)\n",
    "y_train = le.transform(sy_train)\n",
    "sy_train, y_train"
   ]
  },
  {
   "cell_type": "markdown",
   "id": "ebc4af9b",
   "metadata": {},
   "source": [
    "### MinMaxScaler"
   ]
  },
  {
   "cell_type": "code",
   "execution_count": 38,
   "id": "6259ebd6",
   "metadata": {},
   "outputs": [],
   "source": [
    "y_train = le.transform(sy_train)"
   ]
  },
  {
   "cell_type": "code",
   "execution_count": 39,
   "id": "3d30423e",
   "metadata": {},
   "outputs": [
    {
     "data": {
      "text/plain": [
       "array([[2.26086957e-01, 3.64855189e-01, 7.42058000e-01, 9.92857911e-02,\n",
       "        3.66619116e-01, 9.14984247e-01],\n",
       "       [3.21739130e-01, 9.27663993e-01, 7.08191800e-01, 1.37925898e-01,\n",
       "        6.16975749e-01, 5.94758242e-01],\n",
       "       [1.73913043e-02, 2.50176491e-01, 9.60000000e-01, 4.51035727e-03,\n",
       "        8.82310984e-01, 9.95749212e-01],\n",
       "       [0.00000000e+00, 2.56175053e-01, 1.00000000e+00, 0.00000000e+00,\n",
       "        8.24536377e-01, 1.00000000e+00],\n",
       "       [5.13043478e-01, 6.82427595e-01, 6.05862000e-01, 3.13805004e-01,\n",
       "        1.71184023e-01, 5.42331861e-01],\n",
       "       [9.73913043e-01, 2.29357841e-01, 2.37800000e-01, 8.48770617e-01,\n",
       "        4.57203994e-01, 1.99954236e-02],\n",
       "       [2.69565217e-01, 1.49964740e-01, 7.24684000e-01, 1.25934141e-01,\n",
       "        7.55349501e-01, 5.94758242e-01],\n",
       "       [7.47826087e-01, 2.82639441e-01, 4.64200000e-01, 5.54306357e-01,\n",
       "        5.13552068e-02, 4.81403904e-01],\n",
       "       [1.30434783e-01, 8.55681126e-01, 8.86056400e-01, 1.48022477e-02,\n",
       "        9.20114123e-01, 9.95749212e-01],\n",
       "       [1.00000000e+00, 2.32712168e-01, 0.00000000e+00, 1.00000000e+00,\n",
       "        4.86447932e-01, 0.00000000e+00],\n",
       "       [8.00000000e-01, 2.83345150e-01, 4.20000000e-01, 6.29587944e-01,\n",
       "        1.36233951e-01, 4.81403904e-01],\n",
       "       [8.43478261e-01, 1.14678889e-01, 4.34800000e-01, 7.16195079e-01,\n",
       "        2.71041369e-01, 3.11372397e-01],\n",
       "       [2.17391304e-01, 2.84050860e-01, 9.00000000e-01, 7.86333204e-02,\n",
       "        7.58202568e-01, 9.19235034e-01],\n",
       "       [5.82608696e-01, 2.13479221e-01, 5.62564000e-01, 3.90419008e-01,\n",
       "        1.01283880e-01, 4.81403904e-01],\n",
       "       [7.91304348e-01, 2.92872322e-01, 4.51600000e-01, 6.11600308e-01,\n",
       "        5.84878745e-02, 4.81403904e-01],\n",
       "       [6.95652174e-01, 4.48129597e-02, 5.36600000e-01, 5.15000041e-01,\n",
       "        3.78031384e-02, 4.81403904e-01],\n",
       "       [4.34782609e-02, 2.40296432e-01, 9.58256000e-01, 4.62787484e-03,\n",
       "        9.33666191e-01, 9.95749212e-01],\n",
       "       [3.30434783e-01, 9.91531614e-01, 6.80000000e-01, 1.65906665e-01,\n",
       "        5.61340942e-01, 5.94758242e-01],\n",
       "       [9.39130435e-01, 1.60197621e-01, 2.54400000e-01, 8.32781608e-01,\n",
       "        4.74322397e-01, 1.03083801e-01],\n",
       "       [4.78260870e-01, 3.60268173e-01, 6.27696600e-01, 2.67836601e-01,\n",
       "        1.79743224e-01, 5.55084224e-01],\n",
       "       [2.34782609e-01, 1.09033214e-01, 7.45878000e-01, 9.92857911e-02,\n",
       "        7.77460770e-01, 8.39886998e-01],\n",
       "       [2.60869565e-01, 1.15737485e-01, 7.25986000e-01, 1.16607218e-01,\n",
       "        7.81027104e-01, 6.10344463e-01],\n",
       "       [3.39130435e-01, 1.00000000e+00, 6.82244800e-01, 1.80563257e-01,\n",
       "        4.95720399e-01, 5.94758242e-01],\n",
       "       [7.39130435e-01, 2.87226584e-01, 5.26800000e-01, 5.53640148e-01,\n",
       "        6.77603424e-02, 4.81403904e-01],\n",
       "       [5.21739130e-02, 1.45730420e-01, 9.20000000e-01, 9.85244097e-03,\n",
       "        9.37945792e-01, 9.95749212e-01],\n",
       "       [4.69565217e-01, 3.60268173e-01, 6.25878400e-01, 2.65171766e-01,\n",
       "        1.97574893e-01, 5.57918082e-01],\n",
       "       [9.30434783e-01, 1.24911834e-01, 2.55600000e-01, 8.31449190e-01,\n",
       "        4.60770328e-01, 1.28588527e-01],\n",
       "       [3.82608696e-01, 6.74664855e-01, 6.64644000e-01, 2.37857208e-01,\n",
       "        3.23823110e-01, 5.89090525e-01],\n",
       "       [6.17391304e-01, 1.47847612e-01, 5.66280000e-01, 4.07740435e-01,\n",
       "        1.05563481e-01, 4.81403904e-01],\n",
       "       [8.17391304e-01, 1.51729045e-01, 4.42000000e-01, 6.49574206e-01,\n",
       "        1.99714693e-01, 4.81403904e-01],\n",
       "       [6.78260870e-01, 4.12844127e-02, 5.42200000e-01, 4.98344823e-01,\n",
       "        0.00000000e+00, 4.81403904e-01],\n",
       "       [5.65217391e-01, 5.16937438e-01, 5.88840000e-01, 3.76428625e-01,\n",
       "        3.63766049e-02, 4.87071621e-01],\n",
       "       [4.52173913e-01, 3.64855189e-01, 6.20000000e-01, 2.63173140e-01,\n",
       "        2.25392297e-01, 5.60751941e-01],\n",
       "       [7.73913043e-01, 3.55681158e-01, 4.64200000e-01, 5.80954706e-01,\n",
       "        5.20684736e-02, 4.81403904e-01],\n",
       "       [7.21739130e-01, 1.35144716e-01, 5.29000000e-01, 5.24993172e-01,\n",
       "        4.70756063e-02, 4.81403904e-01],\n",
       "       [4.26086957e-01, 4.98235599e-01, 6.44658560e-01, 2.53180009e-01,\n",
       "        2.63195435e-01, 5.73504304e-01],\n",
       "       [5.73913043e-01, 3.47565277e-01, 5.60000000e-01, 3.81092086e-01,\n",
       "        7.41797432e-02, 4.85654692e-01],\n",
       "       [9.82608696e-01, 2.37826418e-01, 2.38600000e-01, 9.03399734e-01,\n",
       "        4.62196862e-01, 1.59728407e-02],\n",
       "       [4.43478261e-01, 3.69089700e-01, 6.49187800e-01, 2.59175887e-01,\n",
       "        2.45363766e-01, 5.62168870e-01],\n",
       "       [8.60869565e-01, 1.11856051e-01, 4.09400000e-01, 7.20858540e-01,\n",
       "        2.64621969e-01, 2.73115308e-01],\n",
       "       [8.26086957e-01, 1.53493350e-01, 4.20600000e-01, 6.57568711e-01,\n",
       "        2.13266762e-01, 4.81403904e-01],\n",
       "       [7.65217391e-01, 2.97106833e-01, 4.99400000e-01, 5.76957454e-01,\n",
       "        3.06704708e-02, 4.81403904e-01],\n",
       "       [3.47826087e-02, 2.10656383e-01, 9.42440000e-01, 4.58645403e-03,\n",
       "        9.22967190e-01, 9.95749212e-01],\n",
       "       [7.04347826e-01, 1.07621731e-01, 5.46200000e-01, 5.17664876e-01,\n",
       "        4.92154066e-02, 4.81403904e-01],\n",
       "       [2.00000000e-01, 3.02399495e-01, 7.78087600e-01, 4.99863448e-02,\n",
       "        8.51640514e-01, 9.19235034e-01],\n",
       "       [4.86956522e-01, 4.27311519e-01, 6.29716800e-01, 2.85824237e-01,\n",
       "        1.71184023e-01, 5.55084224e-01],\n",
       "       [8.34782609e-01, 1.19266095e-01, 4.09400000e-01, 7.04869531e-01,\n",
       "        2.49643367e-01, 4.74319258e-01],\n",
       "       [6.86956522e-01, 3.98729939e-02, 5.40000000e-01, 5.13667624e-01,\n",
       "        2.78174037e-02, 4.81403904e-01],\n",
       "       [3.56521739e-01, 9.38603092e-01, 6.86868000e-01, 1.87225344e-01,\n",
       "        4.05848787e-01, 5.89090525e-01],\n",
       "       [2.95652174e-01, 6.13267311e-01, 7.03840000e-01, 1.31263810e-01,\n",
       "        7.41084165e-01, 5.94758242e-01],\n",
       "       [1.56521739e-01, 5.59986283e-01, 8.67898400e-01, 1.79677737e-02,\n",
       "        8.73751783e-01, 9.23485822e-01],\n",
       "       [5.39130435e-01, 7.57233680e-01, 5.82500000e-01, 3.51778901e-01,\n",
       "        1.09129815e-01, 5.13993276e-01],\n",
       "       [9.13043478e-01, 1.13267470e-01, 2.78600000e-01, 8.22122268e-01,\n",
       "        3.78031384e-01, 1.41340890e-01],\n",
       "       [6.34782609e-01, 1.73959114e-01, 5.57000000e-01, 4.67033013e-01,\n",
       "        9.41512126e-02, 4.81403904e-01],\n",
       "       [2.43478261e-01, 4.26958315e-02, 7.46886000e-01, 1.01950626e-01,\n",
       "        7.76034237e-01, 6.10344463e-01],\n",
       "       [8.69565217e-03, 2.48765072e-01, 9.80000000e-01, 1.40690043e-05,\n",
       "        8.60199715e-01, 1.00000000e+00],\n",
       "       [1.82608696e-01, 3.64855189e-01, 8.43658400e-01, 2.34621337e-02,\n",
       "        8.70185449e-01, 9.19235034e-01],\n",
       "       [7.30434783e-01, 2.19830669e-01, 5.40600000e-01, 5.36318721e-01,\n",
       "        6.41940086e-02, 4.81403904e-01],\n",
       "       [8.69565217e-02, 6.71842271e-01, 9.02058000e-01, 1.00692692e-02,\n",
       "        9.87874465e-01, 9.95749212e-01],\n",
       "       [8.08695652e-01, 2.13126335e-01, 4.34800000e-01, 6.38248657e-01,\n",
       "        1.65477889e-01, 4.81403904e-01],\n",
       "       [2.60869565e-02, 1.81016271e-01, 9.40000000e-01, 4.51408142e-03,\n",
       "        9.15834522e-01, 9.95749212e-01],\n",
       "       [7.82608696e-01, 3.30981011e-01, 4.58400000e-01, 5.95611298e-01,\n",
       "        3.06704708e-02, 4.81403904e-01],\n",
       "       [9.65217391e-01, 2.29357841e-01, 2.48000000e-01, 8.47438200e-01,\n",
       "        4.58630528e-01, 2.77313291e-02],\n",
       "       [1.47826087e-01, 6.42201968e-01, 8.64258000e-01, 1.75506691e-02,\n",
       "        8.98716120e-01, 9.95749212e-01],\n",
       "       [4.08695652e-01, 5.59986283e-01, 6.40000000e-01, 2.46517921e-01,\n",
       "        3.08131241e-01, 5.77755091e-01],\n",
       "       [5.47826087e-01, 7.47354003e-01, 5.84872000e-01, 3.71765163e-01,\n",
       "        7.70328103e-02, 5.13993276e-01],\n",
       "       [3.73913043e-01, 7.85109551e-01, 6.62422000e-01, 2.07211606e-01,\n",
       "        3.41654779e-01, 5.89090525e-01],\n",
       "       [6.08695652e-02, 2.11714916e-01, 9.36580000e-01, 9.93519982e-03,\n",
       "        9.46504993e-01, 9.95749212e-01],\n",
       "       [2.52173913e-01, 8.57445495e-02, 7.20000000e-01, 1.13942383e-01,\n",
       "        7.78887304e-01, 6.10344463e-01],\n",
       "       [5.30434783e-01, 7.58644972e-01, 5.80000000e-01, 3.19800882e-01,\n",
       "        1.16262482e-01, 5.30996427e-01],\n",
       "       [1.04347826e-01, 7.85109551e-01, 8.80000000e-01, 1.33667955e-02,\n",
       "        1.00000000e+00, 9.95749212e-01],\n",
       "       [8.95652174e-01, 4.26958315e-02, 3.26800000e-01, 7.66826943e-01,\n",
       "        3.14550642e-01, 1.48425536e-01],\n",
       "       [1.21739130e-01, 8.53564188e-01, 8.80478600e-01, 1.42362600e-02,\n",
       "        9.70042796e-01, 9.95749212e-01],\n",
       "       [6.60869565e-01, 7.51587814e-02, 5.53000000e-01, 4.89684109e-01,\n",
       "        7.84593438e-03, 4.81403904e-01],\n",
       "       [5.56521739e-01, 6.47494630e-01, 5.87476000e-01, 3.74429998e-01,\n",
       "        3.35235378e-02, 4.87071621e-01],\n",
       "       [5.21739130e-01, 7.67113993e-01, 6.07696400e-01, 3.15803630e-01,\n",
       "        1.47646220e-01, 5.30996427e-01],\n",
       "       [1.13043478e-01, 7.55469248e-01, 8.80365800e-01, 1.38261071e-02,\n",
       "        9.92154066e-01, 9.95749212e-01],\n",
       "       [8.52173913e-01, 0.00000000e+00, 4.10600000e-01, 7.17527497e-01,\n",
       "        6.17689016e-01, 3.04287751e-01],\n",
       "       [6.26086957e-01, 1.75370532e-01, 5.63640000e-01, 4.18399775e-01,\n",
       "        8.77318117e-02, 4.81403904e-01],\n",
       "       [9.91304348e-01, 2.30769260e-01, 2.34800000e-01, 9.46037093e-01,\n",
       "        4.65763195e-01, 8.88881066e-04],\n",
       "       [8.69565217e-01, 7.93931013e-02, 3.62800000e-01, 7.32184089e-01,\n",
       "        2.57489301e-01, 1.92350342e-01],\n",
       "       [2.78260870e-01, 2.81580845e-01, 7.27696000e-01, 1.27266558e-01,\n",
       "        7.61055635e-01, 5.94758242e-01],\n",
       "       [3.91304348e-01, 6.08680295e-01, 6.66448400e-01, 2.41188252e-01,\n",
       "        3.26676177e-01, 5.89090525e-01],\n",
       "       [5.91304348e-01, 2.23712103e-01, 5.63400000e-01, 3.95082469e-01,\n",
       "        9.12981455e-02, 4.81403904e-01],\n",
       "       [7.56521739e-01, 3.57445590e-01, 5.02800000e-01, 5.54972565e-01,\n",
       "        2.56776034e-02, 4.81403904e-01],\n",
       "       [6.95652174e-02, 3.41919475e-01, 9.37857600e-01, 9.97740683e-03,\n",
       "        9.84308131e-01, 9.95749212e-01],\n",
       "       [9.21739130e-01, 1.17501790e-01, 2.71200000e-01, 8.26785729e-01,\n",
       "        4.18687589e-01, 1.41340890e-01]])"
      ]
     },
     "execution_count": 39,
     "metadata": {},
     "output_type": "execute_result"
    }
   ],
   "source": [
    "dataX_train.to_numpy()\n",
    "\n",
    "n1 = preprocessing.MinMaxScaler()\n",
    "n1 = n1.fit(dataX_train.to_numpy())\n",
    "\n",
    "X_train = n1.transform(dataX_train.to_numpy())\n",
    "X_train"
   ]
  },
  {
   "cell_type": "code",
   "execution_count": 40,
   "id": "60ff2e06",
   "metadata": {},
   "outputs": [
    {
     "data": {
      "text/plain": [
       "(87, 6)"
      ]
     },
     "execution_count": 40,
     "metadata": {},
     "output_type": "execute_result"
    }
   ],
   "source": [
    "X_train.shape"
   ]
  },
  {
   "cell_type": "code",
   "execution_count": 41,
   "id": "85e678dd",
   "metadata": {},
   "outputs": [
    {
     "data": {
      "text/plain": [
       "array([1, 1, 0, 1, 1, 0, 0, 0, 1, 1, 0, 0, 0, 1, 1, 1, 1, 1, 1, 0, 1, 1,\n",
       "       1, 0, 1, 0, 0, 0, 1], dtype=int64)"
      ]
     },
     "execution_count": 41,
     "metadata": {},
     "output_type": "execute_result"
    }
   ],
   "source": [
    "from sklearn.neighbors import KNeighborsClassifier\n",
    "\n",
    "knn = KNeighborsClassifier(n_neighbors = 45)\n",
    "knn = knn.fit(X_train, y_train)\n",
    "\n",
    "y_test = le.transform(sy_test.to_numpy())\n",
    "sy_test, y_test\n",
    "\n",
    "y_test = le.transform(sy_test.to_numpy())\n",
    "X_test = n1.transform(dataX_test.to_numpy())\n",
    "\n",
    "knn.predict(X_test)\n",
    "\n",
    "y_test"
   ]
  },
  {
   "cell_type": "code",
   "execution_count": 42,
   "id": "4ec6e608",
   "metadata": {},
   "outputs": [
    {
     "data": {
      "text/plain": [
       "0.9655172413793104"
      ]
     },
     "execution_count": 42,
     "metadata": {},
     "output_type": "execute_result"
    }
   ],
   "source": [
    "knn.score(X_test, y_test)"
   ]
  },
  {
   "cell_type": "code",
   "execution_count": 43,
   "id": "4cbaf443",
   "metadata": {},
   "outputs": [
    {
     "data": {
      "text/plain": [
       "0.9540229885057471"
      ]
     },
     "execution_count": 43,
     "metadata": {},
     "output_type": "execute_result"
    }
   ],
   "source": [
    "knn.score(X_train, y_train)"
   ]
  },
  {
   "cell_type": "code",
   "execution_count": 44,
   "id": "656eefe0",
   "metadata": {},
   "outputs": [
    {
     "data": {
      "text/plain": [
       "array([1, 1, 0, 1, 1, 0, 0, 1, 1, 1, 0, 0, 0, 1, 1, 1, 1, 1, 1, 0, 1, 1,\n",
       "       1, 0, 1, 0, 0, 0, 1], dtype=int64)"
      ]
     },
     "execution_count": 44,
     "metadata": {},
     "output_type": "execute_result"
    }
   ],
   "source": [
    "knn.predict(X_test)"
   ]
  },
  {
   "cell_type": "code",
   "execution_count": 45,
   "id": "517b78f0",
   "metadata": {},
   "outputs": [
    {
     "data": {
      "text/plain": [
       "array([1, 1, 0, 1, 1, 0, 0, 0, 1, 1, 0, 0, 0, 1, 1, 1, 1, 1, 1, 0, 1, 1,\n",
       "       1, 0, 1, 0, 0, 0, 1], dtype=int64)"
      ]
     },
     "execution_count": 45,
     "metadata": {},
     "output_type": "execute_result"
    }
   ],
   "source": [
    "y_test"
   ]
  },
  {
   "cell_type": "code",
   "execution_count": 46,
   "id": "2d196faf",
   "metadata": {},
   "outputs": [
    {
     "data": {
      "image/png": "[encoded data removed]",
      "text/plain": [
       "<Figure size 432x288 with 1 Axes>"
      ]
     },
     "metadata": {
      "needs_background": "light"
     },
     "output_type": "display_data"
    }
   ],
   "source": [
    "Min_Max_acc_X = []\n",
    "Min_Max_acc_Y = []\n",
    "Min_Max_acc_Y_train = [] \n",
    "import numpy as np\n",
    "#since we are using 86 traing rows we will try k values from 1 to 86\n",
    "i = 1 \n",
    "while i<86:\n",
    "    Min_Max_acc_X.append(i)\n",
    "    knn = KNeighborsClassifier(n_neighbors = i)\n",
    "    knn = knn.fit(X_train,y_train)\n",
    "    Min_Max_acc_Y.append(knn.score(X_test, y_test)) \n",
    "    Min_Max_acc_Y_train.append(knn.score(X_train, y_train))\n",
    "\n",
    "    i += 1\n",
    "    \n",
    "fig, ax = plt.subplots()\n",
    "X_minmax = np.array(Min_Max_acc_X)\n",
    "Y_minmax = np.array(Min_Max_acc_Y)\n",
    "Y_minmax_train = np.array(Min_Max_acc_Y_train)\n",
    "\n",
    "ax.scatter(X_minmax, Y_minmax_train, c='r', label='Train score')\n",
    "ax.scatter(X_minmax, Y_minmax, c='b', label='Test score')\n",
    "\n",
    "\n",
    "plt.xlabel(\"number of neighbours\")\n",
    "plt.ylabel(\"Score\")\n",
    "plt.legend()\n",
    "plt.show()\n"
   ]
  },
  {
   "cell_type": "markdown",
   "id": "ada591ef",
   "metadata": {},
   "source": [
    "### Graph MinMax"
   ]
  },
  {
   "cell_type": "code",
   "execution_count": 47,
   "id": "c60e8dec",
   "metadata": {},
   "outputs": [
    {
     "data": {
      "text/plain": [
       "((array([ 0,  2,  4,  6,  7,  8,  9, 10, 11, 12, 13, 14, 15, 33, 34, 35, 36,\n",
       "         37, 38, 39, 40, 41], dtype=int64),),\n",
       " 1.0)"
      ]
     },
     "execution_count": 47,
     "metadata": {},
     "output_type": "execute_result"
    }
   ],
   "source": [
    "best_acc = np.amax(Y_minmax)\n",
    "index_best = np.where(Y_minmax==best_acc)\n",
    "index_best, best_acc "
   ]
  },
  {
   "cell_type": "code",
   "execution_count": 48,
   "id": "d700da91",
   "metadata": {},
   "outputs": [
    {
     "data": {
      "text/plain": [
       "(46, 0.9655172413793104, 0.9655172413793104)"
      ]
     },
     "execution_count": 48,
     "metadata": {},
     "output_type": "execute_result"
    }
   ],
   "source": [
    "X_minmax[45], Y_minmax_train[45], Y_minmax[45]"
   ]
  },
  {
   "cell_type": "code",
   "execution_count": 49,
   "id": "b269a7e4",
   "metadata": {},
   "outputs": [
    {
     "data": {
      "text/plain": [
       "1.0"
      ]
     },
     "execution_count": 49,
     "metadata": {},
     "output_type": "execute_result"
    }
   ],
   "source": [
    "stand = preprocessing.StandardScaler()\n",
    "standfitted = stand.fit(dataX_train.to_numpy())\n",
    "X_train_p = (dataX_train - dataX_train.mean())/ (dataX_train.std(ddof=1))\n",
    "X_test_p = (dataX_test - dataX_test.mean())/ (dataX_test.std(ddof=1))\n",
    "\n",
    "knn = KNeighborsClassifier(n_neighbors = 1)\n",
    "knn = knn.fit(X_train_p, y_train)\n",
    "knn.score(X_test_p, y_test)"
   ]
  },
  {
   "cell_type": "code",
   "execution_count": 50,
   "id": "eb7120d1",
   "metadata": {},
   "outputs": [
    {
     "data": {
      "image/png": "[encoded data removed]",
      "text/plain": [
       "<Figure size 432x288 with 1 Axes>"
      ]
     },
     "metadata": {
      "needs_background": "light"
     },
     "output_type": "display_data"
    }
   ],
   "source": [
    "Stan_scale_acc_X = []\n",
    "Stan_scale_acc_Y = []\n",
    "Stan_scale_acc_Y_train = [] \n",
    "\n",
    "#since we are using 87 training rows we will try k values from 1 to 86\n",
    "i = 1 \n",
    "while i<86:\n",
    "    Stan_scale_acc_X.append(i)\n",
    "    knn = KNeighborsClassifier(n_neighbors = i)\n",
    "    knn = knn.fit(X_train_p, y_train)\n",
    "    Stan_scale_acc_Y.append(knn.score(X_test_p, y_test))\n",
    "    Stan_scale_acc_Y_train.append(knn.score(X_train_p, y_train))\n",
    "    i += 1\n",
    "    \n",
    "fig, ax = plt.subplots()\n",
    "X_stan = np.array(Stan_scale_acc_X)\n",
    "Y_stan = np.array(Stan_scale_acc_Y)\n",
    "Y_stan_train = np.array(Stan_scale_acc_Y_train)\n",
    "\n",
    "ax.scatter(X_stan, Y_stan_train, c='r', label='Train score')\n",
    "ax.scatter(X_stan, Y_stan, c='b', label='Test score')\n",
    "\n",
    "\n",
    "plt.xlabel(\"number of neighbours\")\n",
    "plt.ylabel(\"Score\")\n",
    "plt.legend()\n",
    "plt.show()"
   ]
  },
  {
   "cell_type": "markdown",
   "id": "ef2265a1",
   "metadata": {},
   "source": [
    "### Graph standard"
   ]
  },
  {
   "cell_type": "code",
   "execution_count": 51,
   "id": "43f278ba",
   "metadata": {},
   "outputs": [
    {
     "data": {
      "text/plain": [
       "((array([ 0,  1,  2,  3,  4,  5,  6,  7,  8,  9, 10, 11, 12, 13, 15],\n",
       "        dtype=int64),),\n",
       " 1.0)"
      ]
     },
     "execution_count": 51,
     "metadata": {},
     "output_type": "execute_result"
    }
   ],
   "source": [
    "best_acc = np.amax(Y_stan) \n",
    "index_best = np.where(Y_stan==best_acc)\n",
    "index_best, best_acc"
   ]
  },
  {
   "cell_type": "code",
   "execution_count": 52,
   "id": "b8fa338b",
   "metadata": {},
   "outputs": [
    {
     "data": {
      "text/plain": [
       "(31, 0.9655172413793104, 0.9655172413793104)"
      ]
     },
     "execution_count": 52,
     "metadata": {},
     "output_type": "execute_result"
    }
   ],
   "source": [
    "X_stan[30], Y_stan_train[30], Y_stan[30]"
   ]
  },
  {
   "cell_type": "code",
   "execution_count": 53,
   "id": "ec982cf1",
   "metadata": {},
   "outputs": [
    {
     "data": {
      "text/plain": [
       "(32, 0.9655172413793104, 0.9655172413793104)"
      ]
     },
     "execution_count": 53,
     "metadata": {},
     "output_type": "execute_result"
    }
   ],
   "source": [
    "X_stan[31], Y_stan_train[31], Y_stan[31]"
   ]
  },
  {
   "cell_type": "code",
   "execution_count": 54,
   "id": "4ba058b2",
   "metadata": {},
   "outputs": [
    {
     "data": {
      "text/plain": [
       "(33, 0.9655172413793104, 0.9655172413793104)"
      ]
     },
     "execution_count": 54,
     "metadata": {},
     "output_type": "execute_result"
    }
   ],
   "source": [
    "X_stan[32], Y_stan_train[32], Y_stan[32]"
   ]
  },
  {
   "cell_type": "code",
   "execution_count": 55,
   "id": "391cd19b",
   "metadata": {},
   "outputs": [
    {
     "data": {
      "text/plain": [
       "(30, 0.9655172413793104, 0.9655172413793104)"
      ]
     },
     "execution_count": 55,
     "metadata": {},
     "output_type": "execute_result"
    }
   ],
   "source": [
    "X_stan[29], Y_stan_train[29], Y_stan[29]"
   ]
  },
  {
   "cell_type": "code",
   "execution_count": 56,
   "id": "853ab2f6",
   "metadata": {},
   "outputs": [
    {
     "data": {
      "text/plain": [
       "(29, 0.9540229885057471, 0.9310344827586207)"
      ]
     },
     "execution_count": 56,
     "metadata": {},
     "output_type": "execute_result"
    }
   ],
   "source": [
    "X_stan[28], Y_stan_train[28], Y_stan[28]"
   ]
  },
  {
   "cell_type": "code",
   "execution_count": 57,
   "id": "5acfd003",
   "metadata": {},
   "outputs": [
    {
     "data": {
      "text/plain": [
       "(28, 0.9540229885057471, 0.9310344827586207)"
      ]
     },
     "execution_count": 57,
     "metadata": {},
     "output_type": "execute_result"
    }
   ],
   "source": [
    "X_stan[27], Y_stan_train[27], Y_stan[27]"
   ]
  },
  {
   "cell_type": "code",
   "execution_count": 58,
   "id": "eef7fc39",
   "metadata": {},
   "outputs": [
    {
     "data": {
      "text/plain": [
       "(27, 0.9540229885057471, 0.9310344827586207)"
      ]
     },
     "execution_count": 58,
     "metadata": {},
     "output_type": "execute_result"
    }
   ],
   "source": [
    "X_stan[26], Y_stan_train[26], Y_stan[26]"
   ]
  },
  {
   "cell_type": "code",
   "execution_count": 59,
   "id": "509ba8af",
   "metadata": {},
   "outputs": [
    {
     "data": {
      "text/plain": [
       "(25, 0.9540229885057471, 0.9310344827586207)"
      ]
     },
     "execution_count": 59,
     "metadata": {},
     "output_type": "execute_result"
    }
   ],
   "source": [
    "X_stan[24], Y_stan_train[24], Y_stan[24]"
   ]
  },
  {
   "cell_type": "code",
   "execution_count": 60,
   "id": "8d30ef4e",
   "metadata": {},
   "outputs": [
    {
     "data": {
      "text/plain": [
       "(21, 0.9425287356321839, 0.9310344827586207)"
      ]
     },
     "execution_count": 60,
     "metadata": {},
     "output_type": "execute_result"
    }
   ],
   "source": [
    "X_stan[20], Y_stan_train[20], Y_stan[20]"
   ]
  },
  {
   "cell_type": "code",
   "execution_count": 61,
   "id": "8014643e",
   "metadata": {},
   "outputs": [
    {
     "data": {
      "text/plain": [
       "(19, 0.9540229885057471, 0.9310344827586207)"
      ]
     },
     "execution_count": 61,
     "metadata": {},
     "output_type": "execute_result"
    }
   ],
   "source": [
    "X_stan[18], Y_stan_train[18], Y_stan[18]"
   ]
  },
  {
   "cell_type": "markdown",
   "id": "342b94d0",
   "metadata": {},
   "source": [
    "### K VALUE : 45 standardsca"
   ]
  },
  {
   "cell_type": "markdown",
   "id": "40f1707e",
   "metadata": {},
   "source": []
  },
  {
   "cell_type": "code",
   "execution_count": 70,
   "id": "7eced5a3",
   "metadata": {},
   "outputs": [
    {
     "data": {
      "text/html": [
       "<div>\n",
       "<style scoped>\n",
       "    .dataframe tbody tr th:only-of-type {\n",
       "        vertical-align: middle;\n",
       "    }\n",
       "\n",
       "    .dataframe tbody tr th {\n",
       "        vertical-align: top;\n",
       "    }\n",
       "\n",
       "    .dataframe thead th {\n",
       "        text-align: right;\n",
       "    }\n",
       "</style>\n",
       "<table border=\"1\" class=\"dataframe\">\n",
       "  <thead>\n",
       "    <tr style=\"text-align: right;\">\n",
       "      <th>Predict</th>\n",
       "      <th>0</th>\n",
       "      <th>1</th>\n",
       "    </tr>\n",
       "    <tr>\n",
       "      <th>actual</th>\n",
       "      <th></th>\n",
       "      <th></th>\n",
       "    </tr>\n",
       "  </thead>\n",
       "  <tbody>\n",
       "    <tr>\n",
       "      <th>0</th>\n",
       "      <td>7</td>\n",
       "      <td>5</td>\n",
       "    </tr>\n",
       "    <tr>\n",
       "      <th>1</th>\n",
       "      <td>0</td>\n",
       "      <td>17</td>\n",
       "    </tr>\n",
       "  </tbody>\n",
       "</table>\n",
       "</div>"
      ],
      "text/plain": [
       "Predict  0   1\n",
       "actual        \n",
       "0        7   5\n",
       "1        0  17"
      ]
     },
     "execution_count": 70,
     "metadata": {},
     "output_type": "execute_result"
    }
   ],
   "source": [
    "#confusion matrix\n",
    "import seaborn as sns\n",
    "knn = KNeighborsClassifier(n_neighbors = 45)\n",
    "knn = knn.fit(X_train_p, y_train)\n",
    "\n",
    "from sklearn.metrics import confusion_matrix,ConfusionMatrixDisplay\n",
    "\n",
    "\n",
    "y_act=pd.Series(y_test,name='actual')\n",
    "y_prid=pd.Series(knn.predict(X_test),name='Predict')\n",
    "df_confusion=pd.crosstab(y_act,y_prid)\n",
    "df_confusion"
   ]
  },
  {
   "cell_type": "markdown",
   "id": "9b94af71",
   "metadata": {},
   "source": [
    "### confusion matrix"
   ]
  },
  {
   "cell_type": "code",
   "execution_count": 82,
   "id": "4879899a",
   "metadata": {},
   "outputs": [
    {
     "data": {
      "image/png": "[encoded data removed]",
      "text/plain": [
       "<Figure size 432x288 with 2 Axes>"
      ]
     },
     "metadata": {
      "needs_background": "light"
     },
     "output_type": "display_data"
    }
   ],
   "source": [
    "from sklearn.datasets import make_classification\n",
    "from sklearn.svm import SVC\n",
    "\n",
    "\n",
    "cm = confusion_matrix(y_act, y_prid, labels=knn.classes_)\n",
    "disp = ConfusionMatrixDisplay(confusion_matrix=cm,display_labels=knn.classes_)\n",
    "disp.plot()\n",
    "plt.show()"
   ]
  },
  {
   "cell_type": "code",
   "execution_count": 88,
   "id": "f2e152d8",
   "metadata": {},
   "outputs": [
    {
     "data": {
      "text/plain": [
       "array([[1.00869565, 0.82531422, 0.409     , 0.76355259, 0.54731405,\n",
       "        1.04962421]])"
      ]
     },
     "execution_count": 88,
     "metadata": {},
     "output_type": "execute_result"
    }
   ],
   "source": [
    "new_example_rawdata = np.array([[117 , 8.433 , 0.6545 , 26.45367 , 1011.243343 , 6.43846]])\n",
    "X_new = n1.transform(new_example_rawdata)\n",
    "X_new"
   ]
  },
  {
   "cell_type": "code",
   "execution_count": 89,
   "id": "881237f2",
   "metadata": {},
   "outputs": [
    {
     "data": {
      "text/plain": [
       "array([1], dtype=int64)"
      ]
     },
     "execution_count": 89,
     "metadata": {},
     "output_type": "execute_result"
    }
   ],
   "source": [
    "knn.predict(X_new)"
   ]
  },
  {
   "cell_type": "code",
   "execution_count": 90,
   "id": "0c86e790",
   "metadata": {},
   "outputs": [
    {
     "data": {
      "text/plain": [
       "array([1], dtype=int64)"
      ]
     },
     "execution_count": 90,
     "metadata": {},
     "output_type": "execute_result"
    }
   ],
   "source": [
    "le.inverse_transform(knn.predict(X_new))"
   ]
  }
 ],
 "metadata": {
  "kernelspec": {
   "display_name": "Python 3",
   "language": "python",
   "name": "python3"
  },
  "language_info": {
   "codemirror_mode": {
    "name": "ipython",
    "version": 3
   },
   "file_extension": ".py",
   "mimetype": "text/x-python",
   "name": "python",
   "nbconvert_exporter": "python",
   "pygments_lexer": "ipython3",
   "version": "3.8.8"
  }
 },
 "nbformat": 4,
 "nbformat_minor": 5
}
